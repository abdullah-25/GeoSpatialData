{
 "cells": [
  {
   "cell_type": "markdown",
   "metadata": {},
   "source": [
    "# CME538 - Introduction to Data Science\n",
    "## Assignment 5 - Geospatial Analysis\n",
    "\n",
    "### Learning Objectives\n",
    "After completing this assignment, you should be comfortable:\n",
    "- Visualization of Geospatial Data.\n",
    "- Using Geosptial Python packages Geopandas and Folium.\n",
    "- Working with Coordinate Reference Systems.\n",
    "- Spatia\n",
    "\n",
    "Note: You are free to add new cells to use as a scratch pad, but make sure to clean you code up and present your answer in the cell indicated with `# Write your code here`.\n",
    "\n",
    "### Marking Breakdown\n",
    "\n",
    "Question | Points\n",
    "--- | ---\n",
    "Question 1a | 1\n",
    "Question 1b | 1\n",
    "Question 2 | 1\n",
    "Question 3 | 1\n",
    "Question 4 | 1\n",
    "Question 5a | 1\n",
    "Question 5b | 1\n",
    "Question 5c | 1\n",
    "Question 6 | 1\n",
    "Question 7 | 1\n",
    "Question 8a | 1\n",
    "Question 8b | 1\n",
    "Question 8c | 1\n",
    "Question 8d | 1\n",
    "Total | 14\n",
    "\n",
    "One of the following marks below will be added to the **Total** above.\n",
    "\n",
    "### Code Quality\n",
    "\n",
    "| Rank | Points | Description |\n",
    "| :-- | :-- | :-- |\n",
    "| Youngling | 1 | Code is unorganized, variables names are not descriptive, redundant, memory-intensive, computationally-intensive, uncommented, error-prone, difficult to understand. |\n",
    "| Padawan | 2 | Code is organized, variables names are descriptive, satisfactory utilization of memory and computational resources, satisfactory commenting, readable. |\n",
    "| Jedi | 3 | Code is organized, easy to understand, efficient, clean, a pleasure to read. #cleancode |"
   ]
  },
  {
   "cell_type": "markdown",
   "metadata": {},
   "source": [
    "## Setup Notebook"
   ]
  },
  {
   "cell_type": "code",
   "execution_count": null,
   "metadata": {},
   "outputs": [],
   "source": [
    "# Import 3rd party libraries\n",
    "import os\n",
    "import json\n",
    "import requests\n",
    "import numpy as np\n",
    "import pandas as pd\n",
    "import seaborn as sns\n",
    "import geopandas as gpd\n",
    "import matplotlib.pyplot as plt\n",
    "\n",
    "# Configure Notebook\n",
    "%matplotlib inline\n",
    "plt.style.use('fivethirtyeight')\n",
    "sns.set_context(\"notebook\")\n",
    "import warnings\n",
    "warnings.filterwarnings('ignore')"
   ]
  },
  {
   "cell_type": "markdown",
   "metadata": {},
   "source": [
    "# Overview\n",
    "This assignment continues on from Assignment 4. Remember, You've just been hired by the City of Toronto. Congratulation! In Assignment 4, you explored patterns in user behavior. In this assignment, you'll continue your exploration using geospaital visualization and data manipulation tools.\n",
    "\n",
    "\n",
    "# 1. Get Station Data\n",
    "First, let's get the station information from `https://tor.publicbikesystem.net`. Remember, we learned about `requests` in Week 3."
   ]
  },
  {
   "cell_type": "code",
   "execution_count": null,
   "metadata": {},
   "outputs": [],
   "source": [
    "response = requests.get('https://tor.publicbikesystem.net/ube/gbfs/v1/en/station_information')\n",
    "bikeshare_stations = pd.DataFrame(json.loads(response.content)['data']['stations'])[['station_id', 'name', 'lat', 'lon', 'capacity']].astype({'station_id': 'int',})\n",
    "bikeshare_stations = bikeshare_stations.rename(columns={'station_id': 'Station Id', \n",
    "                                                        'name': 'Station Name'})\n",
    "\n",
    "# View DataFrame\n",
    "bikeshare_stations.head()"
   ]
  },
  {
   "cell_type": "markdown",
   "metadata": {},
   "source": [
    "# 2. Import Toronto Neighbourhoods shapefile\n",
    "## Question 1a\n",
    "The shapefile for City of Toronto neighbourhood boundaries `'toronto_neighbourhoods.shp'` is included in the assignment directory. Use `gpd.read_file()` to open it and save its contents to a new variables called `neighbourhoods`. Make note of the `'geometry'` column. This is what makes a DataFrame a Geopandas GeoDataFrame."
   ]
  },
  {
   "cell_type": "code",
   "execution_count": null,
   "metadata": {
    "scrolled": false
   },
   "outputs": [],
   "source": [
    "# Write your code here.\n",
    "neighbourhoods = gpd.read_file('toronto_neighbourhoods.shp')\n",
    "\n",
    "# View GeoDataFrame\n",
    "neighbourhoods.head()"
   ]
  },
  {
   "cell_type": "markdown",
   "metadata": {},
   "source": [
    "## Question 1b\n",
    "`neighbourhoods` contains a number of columns we don't need and with generic names. Drop all columns except for `'geometry', and 'FIELD_8'`. Next, change the name of column `'FIELD_8'` to `'name'`. Lastly, remove the neighbourhood id from the name. For example, `'Yorkdale-Glen Park (31)'` should become `'Yorkdale-Glen Park'`.  "
   ]
  },
  {
   "cell_type": "code",
   "execution_count": null,
   "metadata": {},
   "outputs": [],
   "source": [
    "# Write your code here.\n",
    "neighbourhoods = neighbourhoods.filter(['geometry','FIELD_8'])\n",
    "\n",
    "#rename columns\n",
    "neighbourhoods = neighbourhoods.rename(columns={'FIELD_8': 'name'})\n",
    "\n",
    "#remove digits from 'name' column\n",
    "neighbourhoods['name'] = neighbourhoods['name'].str.replace(r'\\d+', '')\n",
    "\n",
    "#remove '()' from 'name' column\n",
    "neighbourhoods['name'] = neighbourhoods['name'].str.strip('()')\n",
    "\n",
    "# View GeoDataFrame\n",
    "neighbourhoods.head()"
   ]
  },
  {
   "cell_type": "markdown",
   "metadata": {},
   "source": [
    "The `'geometry'` column can contain a variety of different shapes as seen below, however, the most common are `Point, LineString, and Polygon`. \n",
    "<br>\n",
    "<img src=\"images/shapes.png\" alt=\"drawing\" width=\"450\"/>\n",
    "<br> \n",
    "In the case of our Toronto neighbourhoods dataset, lets take a look at the contents of the `'geometry'` column."
   ]
  },
  {
   "cell_type": "code",
   "execution_count": null,
   "metadata": {},
   "outputs": [],
   "source": [
    "# View the first few entries in the \"geometry\" column\n",
    "neighbourhoods.geometry.head()"
   ]
  },
  {
   "cell_type": "markdown",
   "metadata": {},
   "source": [
    "Neighbourhood geometries are saved as `POLYGON` shapes."
   ]
  },
  {
   "cell_type": "markdown",
   "metadata": {},
   "source": [
    "# 3. Import Toronto Bikeway Network\n",
    "The city of Toronto publishes data about its current Bikeway Network. Let's import `'bikeway_network.shp'` and take a look."
   ]
  },
  {
   "cell_type": "code",
   "execution_count": null,
   "metadata": {},
   "outputs": [],
   "source": [
    "bike_lanes = gpd.read_file('bikeway_network.shp')\n",
    "bike_lanes.head()"
   ]
  },
  {
   "cell_type": "markdown",
   "metadata": {},
   "source": [
    "Let's take a look at the `'geometry'` column."
   ]
  },
  {
   "cell_type": "code",
   "execution_count": null,
   "metadata": {},
   "outputs": [],
   "source": [
    "bike_lanes.geometry.head()"
   ]
  },
  {
   "cell_type": "markdown",
   "metadata": {},
   "source": [
    "You'll see that the bike lane geometries are saved as `LINESTRING` shapes.\n",
    "\n",
    "Next, let's clean this GeoDataFrame up. First, we'll grab only the columns we're interested in and rename them."
   ]
  },
  {
   "cell_type": "code",
   "execution_count": null,
   "metadata": {},
   "outputs": [],
   "source": [
    "bike_lanes = bike_lanes[['LF_NAME', 'SEG_TYPE', 'length', 'geometry']]\n",
    "bike_lanes = bike_lanes.rename(columns={'LF_NAME': 'name', 'SEG_TYPE': 'route_type'})\n",
    "bike_lanes.head()"
   ]
  },
  {
   "cell_type": "markdown",
   "metadata": {},
   "source": [
    "We can see that there are many different types of bike routes in this dataset."
   ]
  },
  {
   "cell_type": "code",
   "execution_count": null,
   "metadata": {},
   "outputs": [],
   "source": [
    "bike_lanes['route_type'].unique()"
   ]
  },
  {
   "cell_type": "markdown",
   "metadata": {},
   "source": [
    "For our analysis, we're just interested in bike lanes so let's filter out all other route types."
   ]
  },
  {
   "cell_type": "code",
   "execution_count": null,
   "metadata": {},
   "outputs": [],
   "source": [
    "bike_lanes = bike_lanes[bike_lanes['route_type'] == 'bike lane']\n",
    "bike_lanes.head()"
   ]
  },
  {
   "cell_type": "markdown",
   "metadata": {},
   "source": [
    "# 4. Convert Station Locations DataFrame to a GeoDataFrame\n",
    "You'll remember that we imported the station location data as a stantard Pandas DataFrame."
   ]
  },
  {
   "cell_type": "code",
   "execution_count": null,
   "metadata": {},
   "outputs": [],
   "source": [
    "bikeshare_stations.head()"
   ]
  },
  {
   "cell_type": "markdown",
   "metadata": {},
   "source": [
    "Therefore, we'll need to convert it to a GeoDataFrame to have the special `'geometry'` column like `neighbourhoods` and `bike_lanes`.\n",
    "\n",
    "## Question 2\n",
    "Use `gpd.GeoDataFrame()` to create a GeoDataFrame from `bikeshare_stations` and assign the new GeoDataFrame to a new variable called `bikeshare_stations_gdf`.\n",
    "\n",
    "Hint: The **geometry** argument for `gpd.GeoDataFrame()` can be assigned using [`gpd.points_from_xy()`](https://geopandas.org/reference/geopandas.points_from_xy.html) where (x,y) is (lon,lat)."
   ]
  },
  {
   "cell_type": "code",
   "execution_count": null,
   "metadata": {},
   "outputs": [],
   "source": [
    "# Write your code here.\n",
    "bikeshare_stations_gdf = gpd.GeoDataFrame(bikeshare_stations, \n",
    "                                       geometry=gpd.points_from_xy(bikeshare_stations.lon, \n",
    "                                                                   bikeshare_stations.lat))\n",
    "\n",
    "# View DataFrame\n",
    "bikeshare_stations_gdf.head()"
   ]
  },
  {
   "cell_type": "markdown",
   "metadata": {},
   "source": [
    "You should see that `bikeshare_stations_gdf` has a new column `'geometry'` with `POINT` shapes."
   ]
  },
  {
   "cell_type": "code",
   "execution_count": null,
   "metadata": {},
   "outputs": [],
   "source": [
    "bikeshare_stations_gdf.geometry.head()"
   ]
  },
  {
   "cell_type": "markdown",
   "metadata": {},
   "source": [
    "# 5. Generate Simple Plot\n",
    "We can quickly visualize the data with the plot() method. Let's try it for `neighbourhoods`."
   ]
  },
  {
   "cell_type": "code",
   "execution_count": null,
   "metadata": {},
   "outputs": [],
   "source": [
    "neighbourhoods.plot(figsize=(15, 8), edgecolor='w', alpha=0.75);"
   ]
  },
  {
   "cell_type": "markdown",
   "metadata": {},
   "source": [
    "Looks great! Let's now try layering all three datasets on top of each other."
   ]
  },
  {
   "cell_type": "code",
   "execution_count": null,
   "metadata": {},
   "outputs": [],
   "source": [
    "ax = neighbourhoods.plot(figsize=(15, 8), edgecolor='w', alpha=0.75)\n",
    "bikeshare_stations_gdf.plot(ax=ax, color='orange', edgecolor='k', label='Bike Stations')\n",
    "bike_lanes.plot(ax=ax, color='green', label='Bike Lanes');"
   ]
  },
  {
   "cell_type": "markdown",
   "metadata": {},
   "source": [
    "Hmmmmmmm, something funny is going on here. We can see a cluster of orange points close to (0, 0) and a green cluster near (-9e6, 6e6). This suggests that we have different coordinate systems for our geometries."
   ]
  },
  {
   "cell_type": "code",
   "execution_count": null,
   "metadata": {},
   "outputs": [],
   "source": [
    "neighbourhoods.geometry.head(1)"
   ]
  },
  {
   "cell_type": "code",
   "execution_count": null,
   "metadata": {},
   "outputs": [],
   "source": [
    "bikeshare_stations_gdf.geometry.head(1)"
   ]
  },
  {
   "cell_type": "code",
   "execution_count": null,
   "metadata": {},
   "outputs": [],
   "source": [
    "bike_lanes.geometry.head(1)"
   ]
  },
  {
   "cell_type": "markdown",
   "metadata": {},
   "source": [
    "We can see that `neighbourhoods` and `bikeshare_stations_gdf` is in latitude and longitude, while `bike_lanes` is in some other coordinate system."
   ]
  },
  {
   "cell_type": "markdown",
   "metadata": {},
   "source": [
    "# 6. Coordinate Reference System (CRS)\n",
    "A coordinate reference system (CRS) shows how projected points correspond to real locations on Earth. As you can see from the [figure](https://www.reddit.com/r/MapPorn/comments/b5yaf5/an_incomplete_list_of_map_projections/) below, there are quite a few different Coordinate Reference Systems. \n",
    "<br>\n",
    "<img src=\"images/crs.png\" alt=\"drawing\" width=\"700\"/>\n",
    "<br> \n",
    "When we create a GeoDataFrame from a shapefile, the CRS is already imported. We can check out the `crs` for each GeoDataFrame using the `.crs` method. Let's check it out for each of our GeoDataFrames."
   ]
  },
  {
   "cell_type": "code",
   "execution_count": null,
   "metadata": {},
   "outputs": [],
   "source": [
    "neighbourhoods.crs"
   ]
  },
  {
   "cell_type": "markdown",
   "metadata": {},
   "source": [
    "Looks like the `crs` for `neighbourhoods` is `EPSG:4326`"
   ]
  },
  {
   "cell_type": "code",
   "execution_count": null,
   "metadata": {},
   "outputs": [],
   "source": [
    "bikeshare_stations_gdf.crs"
   ]
  },
  {
   "cell_type": "markdown",
   "metadata": {},
   "source": [
    "The `bikeshare_stations` GeoDataFrame does not contain `crs` information because we contructed it ourselves from (lat,lon) coordinates. However, we know from `publicbikesystem.net` that the station locations have the same `crs` as `neighbourhoods`.\n",
    "\n",
    "So, let's set the crs of `bikeshare_stations_gdf` (`EPSG:4326`)."
   ]
  },
  {
   "cell_type": "code",
   "execution_count": null,
   "metadata": {},
   "outputs": [],
   "source": [
    "bikeshare_stations_gdf.crs = {'init': 'epsg:4326'}"
   ]
  },
  {
   "cell_type": "markdown",
   "metadata": {},
   "source": [
    "Now, let's check."
   ]
  },
  {
   "cell_type": "code",
   "execution_count": null,
   "metadata": {},
   "outputs": [],
   "source": [
    "bikeshare_stations_gdf.crs"
   ]
  },
  {
   "cell_type": "markdown",
   "metadata": {},
   "source": [
    "It worked!"
   ]
  },
  {
   "cell_type": "code",
   "execution_count": null,
   "metadata": {},
   "outputs": [],
   "source": [
    "bike_lanes.crs"
   ]
  },
  {
   "cell_type": "markdown",
   "metadata": {},
   "source": [
    "`bike_lanes` shows a different `crs` from `neighbourhoods` and `bikeshare_stations_gdf` (`EPSG:3857`).\n",
    "\n",
    "EPSG stands for [European Petroleum Survey Group](https://epsg.org/home.html|).\n",
    "\n",
    "### EPSG:4326 (WGS84)\n",
    "The World Geodetic System of 1984 is the geographic coordinate system (the three-dimensional one) used by GPS to express locations on the earth. WGS84 is the defined coordinate system for GeoJSON, as longitude and latitude in decimal degrees. For the most part, when you describe a lon/lat coordinate location, it’s based on the EPSG:4326 coordinate system. \n",
    "\n",
    "### EPSG:3857 (Pseudo-Mercator)\n",
    "The projected Pseudo-Mercator coordinate system takes the WGS84 coordinate system and projects it onto a square. EPSG:3857 was adopted by Google Maps in 2005.\n",
    "\n",
    "You can take an entire course on geographic information systems (GIS). For the purpose of this short introduction to geospatial data analysis in Python, the important take-aways are:\n",
    "1. There are many different `crs`'s out there and you should be aware that different shapefiles may use different `crs`'s.\n",
    "2. When analyzing and plotting multiple GeoDataFrames, it's important that they all use the same CRS. \n",
    "\n",
    "So, let's transform `bike_lanes` from `EPSG:3857` to `EPSG:4326`. "
   ]
  },
  {
   "cell_type": "code",
   "execution_count": null,
   "metadata": {},
   "outputs": [],
   "source": [
    "bike_lanes = bike_lanes.to_crs(epsg=4326)\n",
    "bike_lanes.crs"
   ]
  },
  {
   "cell_type": "markdown",
   "metadata": {},
   "source": [
    "Remember, the `crs` you use depends on the type of analysis or visualization you're undertaking. For example:\n",
    "- Equal-area projections preserve area. This is a good choice, if you'd like to calculate the area of a country, province, city, or neighbourhood.\n",
    "- Equidistant projections preserve distance. This would be a good choice for calculating distance of a shipping route.\n",
    "\n",
    "Map projections are not 100% accurate and each projection distorts the surface of the Earth in one way or another while retaining some useful properties specific to its intended use. "
   ]
  },
  {
   "cell_type": "markdown",
   "metadata": {},
   "source": [
    "## Question 3\n",
    "Because we're working in a relatively small area (Toronto) and we'll be looking at areas and distances, we should transform to a 2D projection `crs`. The City of Mississauga distributes datasets in `UTM NAD83 Zone 17N (EPSG:26917)` so let's try that. Transform `neighbourhoods, bikeshare_stations_gdf, and bike_lanes` to `EPSG:26917`."
   ]
  },
  {
   "cell_type": "code",
   "execution_count": null,
   "metadata": {},
   "outputs": [],
   "source": [
    "# Write your code here.\n",
    "bike_lanes = bike_lanes.to_crs(epsg=26917)\n",
    "bikeshare_stations_gdf = bikeshare_stations_gdf.to_crs(epsg=26917)\n",
    "neighbourhoods = neighbourhoods.to_crs(epsg=26917)"
   ]
  },
  {
   "cell_type": "code",
   "execution_count": null,
   "metadata": {},
   "outputs": [],
   "source": [
    "bike_lanes.crs"
   ]
  },
  {
   "cell_type": "markdown",
   "metadata": {},
   "source": [
    "## Question 4\n",
    "Now, let's try plotting all three GeoDataFrame together again. Don't forget to include the following axis labels:\n",
    "```python\n",
    "plt.xlabel('East, meters', fontsize=18)\n",
    "plt.ylabel('North, meters', fontsize=18)\n",
    "```\n",
    "and a legend showing the following labels:\n",
    "- Bike Stations\n",
    "- Bike Lanes\n",
    "\n",
    "Your figure should look something like this.\n",
    "<br>\n",
    "<img src=\"images/q4.png\" alt=\"drawing\" width=\"500\"/>\n",
    "<br> "
   ]
  },
  {
   "cell_type": "code",
   "execution_count": null,
   "metadata": {},
   "outputs": [],
   "source": [
    "# Write your code here.\n",
    "\n",
    "# Plot bike Lane shape file \n",
    "ax = bike_lanes.plot(figsize=(15, 8), edgecolor='purple', label='Bike Lanes', alpha = 0.75)\n",
    "\n",
    "# Plot the neighbourhoods location\n",
    "neighbourhoods.plot(figsize=(15, 8), ax=ax, edgecolor='white')\n",
    "\n",
    "# Plot the bikeshare station location\n",
    "bikeshare_stations_gdf.plot(ax=ax ,figsize=(15, 8), color='orange', edgecolor = 'k' , label='Bike Stations')\n",
    "\n",
    "\n",
    "# plot legend, axis and display\n",
    "plt.legend(fontsize=16, loc=2)\n",
    "plt.xlabel('East, meters', fontsize=18)\n",
    "plt.ylabel('North, meters', fontsize=18)\n",
    "plt.show()\n"
   ]
  },
  {
   "cell_type": "markdown",
   "metadata": {},
   "source": [
    "# 7. Geometric Object Attributes\n",
    "As you'll recall, the `'geometry'` column of a GeoDataFrame can contain many different types of geometies including:\n",
    "- POLYGON\n",
    "- LINESTRING\n",
    "- POINT\n",
    "\n",
    "These types of geometries have built in attributes that we can use to quickly analyze the dataset.\n",
    "\n",
    "### POINT: X and Y Coordinates"
   ]
  },
  {
   "cell_type": "code",
   "execution_count": null,
   "metadata": {},
   "outputs": [],
   "source": [
    "bikeshare_stations_gdf.geometry.x.head()"
   ]
  },
  {
   "cell_type": "code",
   "execution_count": null,
   "metadata": {},
   "outputs": [],
   "source": [
    "bikeshare_stations_gdf.geometry.y.head()"
   ]
  },
  {
   "cell_type": "markdown",
   "metadata": {},
   "source": [
    "### LINESTRING: Distance (meters)"
   ]
  },
  {
   "cell_type": "code",
   "execution_count": null,
   "metadata": {},
   "outputs": [],
   "source": [
    "bike_lanes.geometry.length.head()"
   ]
  },
  {
   "cell_type": "markdown",
   "metadata": {},
   "source": [
    "### POLYGON: Area (meters$^2$)"
   ]
  },
  {
   "cell_type": "code",
   "execution_count": null,
   "metadata": {},
   "outputs": [],
   "source": [
    "neighbourhoods.geometry.area.head()"
   ]
  },
  {
   "cell_type": "markdown",
   "metadata": {},
   "source": [
    "# 8. Neighbourhoods Analysis\n",
    "The City of Toronto has expanded its bike share infrastructure over the past few years and has tried to do it in a way that provides access as equitably as possible while providing relief on high-flow transit routes. Before further expanding the the city's bike share network, the city would like to analyze the density of bike stations for each neighbourhood in Toronto.\n",
    "\n",
    "The figure below is hard to interpret because some areas have many bike stations which results in overplotting at this scale."
   ]
  },
  {
   "cell_type": "code",
   "execution_count": null,
   "metadata": {},
   "outputs": [],
   "source": [
    "ax = neighbourhoods.plot(figsize=(15, 8), edgecolor='w', alpha=0.75)\n",
    "bikeshare_stations_gdf.plot(ax=ax, color='orange', edgecolor='k', label='Bike Stations')\n",
    "plt.legend(fontsize=16)\n",
    "plt.xlabel('East, meters', fontsize=18)\n",
    "plt.ylabel('North, meters', fontsize=18);"
   ]
  },
  {
   "cell_type": "markdown",
   "metadata": {},
   "source": [
    "## Question 5a\n",
    "Calculate the area in square kilometers of each neighbourhood and save this information as a new column named `'area'` in the `neighbourhoods` GeoDataFrame."
   ]
  },
  {
   "cell_type": "code",
   "execution_count": null,
   "metadata": {},
   "outputs": [],
   "source": [
    "# Write your code here.\n",
    "neighbourhoods['area'] = neighbourhoods['geometry'].area\n",
    "# View GeoDataFrame\n",
    "neighbourhoods.head()"
   ]
  },
  {
   "cell_type": "markdown",
   "metadata": {},
   "source": [
    "## Question 5b\n",
    "Calculate the number of bike stations in each neighbourhood and save this information as a new column named `'stations'` in the `neighbourhoods` GeoDataFrame. Your GeoDataFrame should look like this.\n",
    "<br>\n",
    "<img src=\"images/station_count.png\" alt=\"drawing\" width=\"500\"/>\n",
    "<br> \n",
    "Lastly, sort `neighbourhoods` by the number of stations (`'stations'`) in descending oder.\n",
    "\n",
    "Hints:\n",
    "- You can use `.apply()` to loops through each neighbourhood. \n",
    "```python\n",
    "neighbourhoods.apply(lambda row: your_calculation, axis=1)\n",
    "```\n",
    "- You can use the `.within()` GeoDataFrame method to check if a bike station is in a neighbourhood.\n",
    "- After you're finished the calculation, sort `neighbourhoods` by the `'stations'` column in descending oder."
   ]
  },
  {
   "cell_type": "code",
   "execution_count": null,
   "metadata": {},
   "outputs": [],
   "source": [
    "# Write your code here.\n",
    "neighbourhoods['stations'] = neighbourhoods.apply(lambda row: bikeshare_stations_gdf.within(row.geometry).sum(), axis=1)\n",
    "\n",
    "#sort values based on 'stations' column\n",
    "neighbourhoods = neighbourhoods.sort_values('stations', ascending = False)\n",
    "# View GeoDataFrame\n",
    "neighbourhoods.head(10)"
   ]
  },
  {
   "cell_type": "markdown",
   "metadata": {},
   "source": [
    "## Question 5c\n",
    "Neighbourhoods `Waterfront Communities-The Island`, `Bay Street Corridor`, `Church-Yonge Corridor`, and `Niagara` have the highest number of bike stationa. However, counting the number of stations in a certain geographic region is not the best way to assess access to the bike share network in a neighbourhood because the areas of each neighbourhood are different. Thus, it would be better to calculate a station density in units of `stations per square km`. Create a new column in `neighbourhoods` called `'station_density'` and assign each neighbourhood's station density to it."
   ]
  },
  {
   "cell_type": "code",
   "execution_count": null,
   "metadata": {},
   "outputs": [],
   "source": [
    "# Write your code here.\n",
    "neighbourhoods['station_density'] = neighbourhoods['stations'] / neighbourhoods['area']\n",
    "\n",
    "# View GeoDataFrame\n",
    "neighbourhoods.head(10)"
   ]
  },
  {
   "cell_type": "markdown",
   "metadata": {},
   "source": [
    "# 8. Interactive Maps\n",
    "In this section, we'll create interactive maps with the folium package to visualize our neighbourhood and station data.\n",
    "\n",
    "Let's first install folium."
   ]
  },
  {
   "cell_type": "code",
   "execution_count": null,
   "metadata": {},
   "outputs": [],
   "source": [
    "!pip install folium"
   ]
  },
  {
   "cell_type": "markdown",
   "metadata": {},
   "source": [
    "Let's import folium."
   ]
  },
  {
   "cell_type": "code",
   "execution_count": null,
   "metadata": {},
   "outputs": [],
   "source": [
    "import folium"
   ]
  },
  {
   "cell_type": "markdown",
   "metadata": {},
   "source": [
    "Let's start by plotting a simple interactive map of Toronto (43.6426, -79.3871) using `folium.Map()`.\n",
    "\n",
    "**IMPORTANT:** follium expects geographic locations in (latitude, longitude). Therefore, if you're working in a `crs` that uses (East, North), like we have been (`EPSG:26917`), then you'll need to use `.to_crs()` to transform to another `crs`. We'll be using `.to_crs(epsg=4326)`. "
   ]
  },
  {
   "cell_type": "code",
   "execution_count": null,
   "metadata": {},
   "outputs": [],
   "source": [
    "# Create a map of Toronto\n",
    "map_1 = folium.Map(location=[43.6426, -79.3871], \n",
    "                   tiles='cartodbpositron', \n",
    "                   zoom_start=10)\n",
    "\n",
    "# Display map\n",
    "map_1"
   ]
  },
  {
   "cell_type": "markdown",
   "metadata": {},
   "source": [
    "There are some arguments for `folium.Map()` we need to unpack.\n",
    "\n",
    "```python\n",
    "folium.Map(location=[43.6426, -79.3871],\n",
    "           tiles='cartodbpositron', \n",
    "           zoom_start=12)\n",
    "```\n",
    "\n",
    "- `location`: The initial center of the map. (43.6426, -79.3871) is the location of the CN Tower in downtown Toronto.\n",
    "- `tiles`: Controls the styling of the map. We chose the `'cartodbpositron'` style. Try out the `'openstreetmap'` style. More styles [here](https://github.com/python-visualization/folium/tree/master/folium/templates/tiles).\n",
    "- `zoom_start`: Sets the initial level of zoom of the map. Higher values of `zoom_start` zoom in closer to the map."
   ]
  },
  {
   "cell_type": "markdown",
   "metadata": {},
   "source": [
    "## Marker\n",
    "Next, let's create a create a map using follium and place a `Marker()` at the location of each bike station."
   ]
  },
  {
   "cell_type": "code",
   "execution_count": null,
   "metadata": {},
   "outputs": [],
   "source": [
    "from folium import Marker"
   ]
  },
  {
   "cell_type": "code",
   "execution_count": null,
   "metadata": {},
   "outputs": [],
   "source": [
    "# Create a map of Toronto\n",
    "map_2 = folium.Map(location=[43.6426, -79.3871], \n",
    "                   tiles='cartodbpositron', \n",
    "                   zoom_start=10)\n",
    "\n",
    "# Add points to the map\n",
    "for idx, row in bikeshare_stations_gdf.to_crs(epsg=4326).iterrows():\n",
    "    Marker([row.geometry.y, row.geometry.x]).add_to(map_2)\n",
    "\n",
    "# Display map\n",
    "map_2"
   ]
  },
  {
   "cell_type": "markdown",
   "metadata": {},
   "source": [
    "## MarkerCluster\n",
    "Next, let's create a create a map using follium and the `MarkerCluster` plugin. The map we just created above is a bit cluttered before we zoom to the neighbourhood scale. `MarkerCluster` will help declutter the map. "
   ]
  },
  {
   "cell_type": "code",
   "execution_count": null,
   "metadata": {},
   "outputs": [],
   "source": [
    "from folium.plugins import MarkerCluster"
   ]
  },
  {
   "cell_type": "code",
   "execution_count": null,
   "metadata": {
    "scrolled": false
   },
   "outputs": [],
   "source": [
    "# Create a map of Toronto\n",
    "map_3 = folium.Map(location=[43.6426, -79.3871], \n",
    "                   tiles='cartodbpositron', \n",
    "                   zoom_start=10)\n",
    "\n",
    "# Add points to the map\n",
    "mc = MarkerCluster()\n",
    "for idx, row in bikeshare_stations_gdf.to_crs(epsg=4326).iterrows():\n",
    "    mc.add_child(Marker([row.geometry.y, row.geometry.x]).add_to(map_2))\n",
    "\n",
    "map_3.add_child(mc)\n",
    "    \n",
    "# Display map\n",
    "map_3"
   ]
  },
  {
   "cell_type": "markdown",
   "metadata": {},
   "source": [
    "## Circle\n",
    "Next, let's create a create a map using follium and the `Circle` object. The map we just created above is definitely less cluttered but we're limited in the amount of information we can display. By using the `Circle` object, we can vary the size and color of each `Circle` and therefore, show the relationship between location and two other variables. "
   ]
  },
  {
   "cell_type": "code",
   "execution_count": null,
   "metadata": {},
   "outputs": [],
   "source": [
    "from folium import Circle"
   ]
  },
  {
   "cell_type": "code",
   "execution_count": null,
   "metadata": {},
   "outputs": [],
   "source": [
    "# Create a map of Toronto\n",
    "map_4 = folium.Map(location=[43.6426, -79.3871], \n",
    "                   tiles='cartodbpositron', \n",
    "                   zoom_start=10)\n",
    "\n",
    "# Add points to the map\n",
    "for idx, row in bikeshare_stations_gdf.to_crs(epsg=4326).iterrows():\n",
    "    Circle(location=[row.geometry.y, row.geometry.x],\n",
    "           radius=20,\n",
    "           color='forestgreen').add_to(map_4)\n",
    "\n",
    "# Display map\n",
    "map_4"
   ]
  },
  {
   "cell_type": "markdown",
   "metadata": {},
   "source": [
    "There are some arguments for `Circle()` we need to unpack.\n",
    "\n",
    "```python\n",
    "Circle(location=[row.geometry.y, row.geometry.x],\n",
    "       radius=20,\n",
    "       color='forestgreen').add_to(map_4)\n",
    "```\n",
    "\n",
    "- `location`: The initial center of the circle in (latitude, longitude). \n",
    "- `radius`: The radius of each circle.\n",
    "- `color`: The color of each circle."
   ]
  },
  {
   "cell_type": "markdown",
   "metadata": {},
   "source": [
    "## HeatMap\n",
    "Next, let's create a create a map using follium and the `HeatMap` function. The `HeatMap` will show the density of bike stations in different areas of the city, where red areas have relatively more bike stations. As you'd expect for a big city like Toronto, most of the bike stations are located near the center."
   ]
  },
  {
   "cell_type": "code",
   "execution_count": null,
   "metadata": {},
   "outputs": [],
   "source": [
    "from folium.plugins import HeatMap"
   ]
  },
  {
   "cell_type": "code",
   "execution_count": null,
   "metadata": {
    "scrolled": false
   },
   "outputs": [],
   "source": [
    "# Create a map of Toronto\n",
    "map_5 = folium.Map(location=[43.6426, -79.3871], \n",
    "                   tiles='cartodbpositron', \n",
    "                   zoom_start=10)\n",
    "\n",
    "# Add points to the map\n",
    "HeatMap(data=list(zip(bikeshare_stations_gdf.to_crs(epsg=4326).geometry.y,\n",
    "                      bikeshare_stations_gdf.to_crs(epsg=4326).geometry.x)),\n",
    "        radius=20).add_to(map_5)\n",
    "\n",
    "# Display map\n",
    "map_5"
   ]
  },
  {
   "cell_type": "markdown",
   "metadata": {},
   "source": [
    "There are some arguments for `HeatMap()` we need to unpack.\n",
    "\n",
    "```python\n",
    "HeatMap(\n",
    "    data=list(zip(bikeshare_stations_gdf.to_crs(epsg=4326).geometry.y,\n",
    "                  bikeshare_stations_gdf.to_crs(epsg=4326).geometry.x)),\n",
    "    radius=20\n",
    ").add_to(map_5)\n",
    "```\n",
    "\n",
    "- `data`: A DataFrame or list containing the locations (latitude, longitude) that we'd like to plot.\n",
    "- `radius`: Controls the smoothness of the heatmap where higher values make the heatmap look smoother."
   ]
  },
  {
   "cell_type": "markdown",
   "metadata": {},
   "source": [
    "## Choropleth\n",
    "Choropleth maps are used to represent statistical data through various shading patterns or symbols on predetermined geographic areas (i.e. countries, provinces, neighbourhoods, etc.). To understand how access to the Toronto bike share network varies by neighbourhood, we'll create a choropleth map.\n",
    "\n",
    "As a first step, we create a GeoDataFrame where each neughbourhood is assigned a different row, and the \"geometry\" column contains the geographical boundaries."
   ]
  },
  {
   "cell_type": "code",
   "execution_count": null,
   "metadata": {},
   "outputs": [],
   "source": [
    "plot_geography = neighbourhoods.to_crs(epsg=4326)[['name', 'geometry']]\n",
    "plot_geography = plot_geography.set_index('name')\n",
    "plot_geography.head()"
   ]
  },
  {
   "cell_type": "markdown",
   "metadata": {},
   "source": [
    "Next, we'll create a DataFrame from `neighbourhoods` containing the quanity we want to plot `'station_density'` and the neighbourhood name, which should match the index of `plot_geography`."
   ]
  },
  {
   "cell_type": "code",
   "execution_count": null,
   "metadata": {},
   "outputs": [],
   "source": [
    "plot_data = neighbourhoods[['name', 'station_density']]\n",
    "plot_data.head()"
   ]
  },
  {
   "cell_type": "code",
   "execution_count": null,
   "metadata": {},
   "outputs": [],
   "source": [
    "from folium import Choropleth"
   ]
  },
  {
   "cell_type": "code",
   "execution_count": null,
   "metadata": {
    "scrolled": true
   },
   "outputs": [],
   "source": [
    "# Create a base map\n",
    "map_6 = folium.Map(location=[43.6426, -79.3871], \n",
    "                 tiles='cartodbpositron',\n",
    "                 zoom_start=10)\n",
    "\n",
    "# Add a choropleth map to the base map\n",
    "Choropleth(geo_data=plot_geography.__geo_interface__, \n",
    "           columns=['name', 'station_density'],\n",
    "           data=plot_data, \n",
    "           key_on='feature.id', \n",
    "           fill_color='YlOrRd', \n",
    "           legend_name='Bikeshare Station Density (stations / km**2)'\n",
    "          ).add_to(map_6)\n",
    "\n",
    "# Display the map\n",
    "map_6"
   ]
  },
  {
   "cell_type": "markdown",
   "metadata": {},
   "source": [
    "There are some arguments for `Choropleth()` we need to unpack.\n",
    "\n",
    "```python\n",
    "Choropleth(geo_data=districts.__geo_interface__, \n",
    "           columns=['name', 'station_density'],\n",
    "           data=plot_dict, \n",
    "           key_on='feature.id', \n",
    "           fill_color='YlOrRd', \n",
    "           legend_name='Bikeshare Station Density (stations / km**2)'\n",
    "          ).add_to(map_6)\n",
    "```\n",
    "\n",
    "- `geo_data`: A GeoJSON FeatureCollection containing the boundaries of each geographical (neighbourhood area.\n",
    " - In the code above, we convert the districts GeoDataFrame to a GeoJSON FeatureCollection with the __geo_interface__ attribute. Try it out for yourself in a new cell to see what a GeoJSON looks like.\n",
    "- `data`: A Pandas DataFrame containing the values that will be used to color-code each geographical area.\n",
    "- `key_on`: Always be set to `'feature.id'`\n",
    "- `fill_color`: Sets the colormap."
   ]
  },
  {
   "cell_type": "markdown",
   "metadata": {},
   "source": [
    "## Question 6\n",
    "In Assignment 4, you merged weather station data with bike share ridership data. We chose a weather stations somewhere downtown but never looked at its location relative to the bike stations. \n",
    "\n",
    "Use folium to plot:\n",
    "1. The station locations in `bikeshare_stations` using `Circle()` objects.\n",
    "2. The location of the TORONTO CITY CENTRE weather station `(43.63, -79.4)` using a `Marker()` object.\n",
    "\n",
    "Your plot should look something like this.\n",
    "<br>\n",
    "<img src=\"images/q6.png\" alt=\"drawing\" width=\"700\"/>\n",
    "<br> "
   ]
  },
  {
   "cell_type": "code",
   "execution_count": null,
   "metadata": {},
   "outputs": [],
   "source": [
    "# Write your code here.\n",
    "\n",
    "# Create a map of Toronto\n",
    "map_4 = folium.Map(location=[43.6426, -79.3871], \n",
    "                   tiles='cartodbpositron', \n",
    "                   zoom_start=10)\n",
    "\n",
    "# Add points to the map\n",
    "for idx, row in bikeshare_stations_gdf.to_crs(epsg=4326).iterrows():\n",
    "    Circle(location=[row.geometry.y, row.geometry.x],\n",
    "           radius=20,\n",
    "           color='forestgreen').add_to(map_4)\n",
    "\n",
    "# add a marker for TORONTO CITY CENTRE weather station\n",
    "folium.Marker(location=[43.6426, -79.3871]).add_to(map_4)\n",
    "\n",
    "# Display map\n",
    "map_4\n",
    "\n"
   ]
  },
  {
   "cell_type": "markdown",
   "metadata": {},
   "source": [
    "## 9. Geocoding\n",
    "Geocoding converts addresses into geographic coordinates to be placed on a map. If you have ever Googled a geographic location like \"CN Tower\", then you have used a geocoder.\n",
    "\n",
    "First, we need to install another library called `geopy`. Let's use `pip install` to do this."
   ]
  },
  {
   "cell_type": "code",
   "execution_count": null,
   "metadata": {},
   "outputs": [],
   "source": [
    "!pip install geopy"
   ]
  },
  {
   "cell_type": "code",
   "execution_count": null,
   "metadata": {},
   "outputs": [],
   "source": [
    "from geopandas.tools import geocode"
   ]
  },
  {
   "cell_type": "markdown",
   "metadata": {},
   "source": [
    "Let's use the names of Toronto's three universities as our search terms."
   ]
  },
  {
   "cell_type": "code",
   "execution_count": null,
   "metadata": {},
   "outputs": [],
   "source": [
    "universities = geocode(['University of Toronto', \n",
    "                        'Ryerson University', \n",
    "                        'York University'])"
   ]
  },
  {
   "cell_type": "markdown",
   "metadata": {},
   "source": [
    "Now, let's plot them up using `Marker()`!"
   ]
  },
  {
   "cell_type": "code",
   "execution_count": null,
   "metadata": {},
   "outputs": [],
   "source": [
    "# Create a map of Toronto\n",
    "map_7 = folium.Map(location=[43.6426, -79.3871], \n",
    "                   tiles='cartodbpositron', \n",
    "                   zoom_start=10)\n",
    "\n",
    "# Add points to the map\n",
    "for idx, row in universities.to_crs(epsg=4326).iterrows():\n",
    "    Marker([row.geometry.y, row.geometry.x]).add_to(map_7)\n",
    "\n",
    "# Display map\n",
    "map_7"
   ]
  },
  {
   "cell_type": "markdown",
   "metadata": {},
   "source": [
    "We won't spend any more time on geocoding but its good to know about."
   ]
  },
  {
   "cell_type": "markdown",
   "metadata": {},
   "source": [
    "# 10. Spatial Joins\n",
    "GeoDataFrames can be combined using the same methods we learned in Week 2 (`.concat()`, `.merge()`). But, there is another type of merging operation called a [**spatial join**](https://geopandas.org/reference/geopandas.sjoin.html) `.sjoin()`. With a spatial join, we combine GeoDataFrames based on the spatial relationship between the objects in the `'geometry'` columns. \n",
    "\n",
    "## Question 7\n",
    "In a previous section, we combined `neighbourhoods` and `bikeshare_stations_gdf` by counting the number of stations in each neighbourhood. Add a new column to `bikeshare_stations_gdf` called `'neighbourhood'`, which contains the neighbourhood that a particular station is located in."
   ]
  },
  {
   "cell_type": "code",
   "execution_count": null,
   "metadata": {},
   "outputs": [],
   "source": [
    "# Write your code here.\n",
    "#bikeshare_stations_gdf = gpd.sjoin( bikeshare_stations_gdf, neighbourhoods)\n",
    "#bikeshare_stations_gdf = bikeshare_stations_gdf.drop(columns = ['index_right', 'area', 'stations', 'station_density'])\n",
    "#bikeshare_stations_gdf = bikeshare_stations_gdf.rename(columns = {'name': 'neighbourhoods'})\n",
    "\n",
    "# View GeoDataFrame\n",
    "bikeshare_stations_gdf.head()\n"
   ]
  },
  {
   "cell_type": "markdown",
   "metadata": {},
   "source": [
    "# 11. Proximity Analysis\n",
    "In this section, you'll learn how to select all points within some radius or boundary of a geometry feature.  \n",
    "\n",
    "Our last task is to find all TTC subways stations that are not within 200 meter of a bike station. \n",
    "\n",
    "## Question 8a\n",
    "Import the `'subway_stations.shp'` shape file as a GeoDataFrame and transform the `crs` to `EPSG:26917`. Create a new variable called `subway_stations` and save the GeoDataFrame to it."
   ]
  },
  {
   "cell_type": "code",
   "execution_count": null,
   "metadata": {},
   "outputs": [],
   "source": [
    "# Write your code here.\n",
    "subway_stations = gpd.read_file('subway_stations.shp')\n",
    "\n",
    "#convert crs to EPSG:26917\n",
    "subway_stations = subway_stations.to_crs(epsg=26917)\n",
    "\n",
    "# View GeoDataFrame\n",
    "subway_stations.head()"
   ]
  },
  {
   "cell_type": "markdown",
   "metadata": {},
   "source": [
    "## Question 8b\n",
    "We want to see whether TTC subway stations are within 200 meters of a bike stations and the simplest way to do this is to create a buffer. The `'geometry'` column in a GeoDataFrame has a method called `.buffer()`, which takes a radius argument in the units of your `crs` (meters in the case of `EPSG:26917` \n",
    "\n",
    "Create a new variable called `bikeshare_stations_buffer` and set it equal to `bikeshare_stations_gdf` with a 200 meter buffer applied."
   ]
  },
  {
   "cell_type": "code",
   "execution_count": null,
   "metadata": {},
   "outputs": [],
   "source": [
    "# Write your code here.\n",
    "bikeshare_stations_buffer = bikeshare_stations_gdf.geometry.buffer(200)\n",
    "\n",
    "# View GeoDataFrame\n",
    "bikeshare_stations_buffer.head()"
   ]
  },
  {
   "cell_type": "markdown",
   "metadata": {},
   "source": [
    "`bikeshare_stations_buffer` should be a geopandas.geoseries.GeoSeries data type."
   ]
  },
  {
   "cell_type": "code",
   "execution_count": null,
   "metadata": {},
   "outputs": [],
   "source": [
    "type(bikeshare_stations_buffer)"
   ]
  },
  {
   "cell_type": "markdown",
   "metadata": {},
   "source": [
    "Next, let's plot `bikeshare_stations_buffer` and see what it looks like."
   ]
  },
  {
   "cell_type": "code",
   "execution_count": null,
   "metadata": {},
   "outputs": [],
   "source": [
    "from folium import GeoJson"
   ]
  },
  {
   "cell_type": "code",
   "execution_count": null,
   "metadata": {},
   "outputs": [],
   "source": [
    "# Create map with release incidents and monitoring stations\n",
    "map_8 = folium.Map(location=[43.6426, -79.3871], \n",
    "                   tiles='cartodbpositron', \n",
    "                   zoom_start=10)\n",
    "    \n",
    "# Plot each polygon on the map\n",
    "GeoJson(bikeshare_stations_buffer.to_crs(epsg=4326)).add_to(map_8)\n",
    "\n",
    "# Show the map\n",
    "map_8"
   ]
  },
  {
   "cell_type": "markdown",
   "metadata": {},
   "source": [
    "We can see that each bike station is now represented as a 200 meter radius circle centered on the station's location.\n",
    "\n",
    "Now we want to test if a subway station is within 200 meters of a bike station. We could test each subway station against each bike station buffer with a `for` loop but this would take a while. A more efficient way is to first collapse all of the buffer `POLYGON` into a `MULTIPOLYGON` object. We do this with the `unary_union` attribute."
   ]
  },
  {
   "cell_type": "code",
   "execution_count": null,
   "metadata": {},
   "outputs": [],
   "source": [
    "bike_station_union = bikeshare_stations_buffer.geometry.unary_union"
   ]
  },
  {
   "cell_type": "markdown",
   "metadata": {},
   "source": [
    "Let's quickly see what it looks like"
   ]
  },
  {
   "cell_type": "code",
   "execution_count": null,
   "metadata": {},
   "outputs": [],
   "source": [
    "bike_station_union"
   ]
  },
  {
   "cell_type": "markdown",
   "metadata": {},
   "source": [
    "`bike_station_union` is just a `MULTIPOLYGON` (data type: `shapely.geometry.multipolygon.MultiPolygon`) so let's convert it to a GeoDataFrame."
   ]
  },
  {
   "cell_type": "code",
   "execution_count": null,
   "metadata": {},
   "outputs": [],
   "source": [
    "bike_station_union = gpd.GeoDataFrame(geometry=[bike_station_union], crs='EPSG:26917')\n",
    "bike_station_union.head(100)"
   ]
  },
  {
   "cell_type": "markdown",
   "metadata": {},
   "source": [
    "## Question 8c\n",
    "Next, we want to know whether or not each subway station is within 200 meters of a bike share station. \n",
    "\n",
    "Create a new column in `subway_stations` called `'bike_access'` and assign it a boolean value. `True` if the station is within 200 meters of a bike station and `False` if it is not.\n",
    "\n",
    "Hint: You can use the `.contains()` method to check if one geometry overlaps with another. \n",
    "\n",
    "```python\n",
    "GeoDataFrame.geometry.contains(geometry)\n",
    "```\n",
    "\n",
    "You can use the `.apply()` method to loop through each row of `subway_stations`.\n",
    "\n",
    "<br>\n",
    "<img src=\"images/q8c.png\" alt=\"drawing\" width=\"700\"/>\n",
    "<br> "
   ]
  },
  {
   "cell_type": "code",
   "execution_count": null,
   "metadata": {},
   "outputs": [],
   "source": [
    "# Write your code here.\n",
    "subway_stations['bike_access'] = subway_stations.apply(lambda row: bike_station_union.geometry.contains(row.geometry), axis = 1)\n",
    "\n",
    "# View GeoDataFrame\n",
    "subway_stations.head(100)"
   ]
  },
  {
   "cell_type": "markdown",
   "metadata": {},
   "source": [
    "Let's plot your answer to see if it makes sense."
   ]
  },
  {
   "cell_type": "code",
   "execution_count": null,
   "metadata": {},
   "outputs": [],
   "source": [
    "# Create map with release incidents and monitoring stations\n",
    "map_9 = folium.Map(location=[43.6426, -79.3871], \n",
    "                   tiles='cartodbpositron', \n",
    "                   zoom_start=10)\n",
    "    \n",
    "# Plot each polygon on the map\n",
    "GeoJson(bike_station_union.to_crs(epsg=4326)).add_to(map_9)\n",
    "\n",
    "# Add points to the map\n",
    "for idx, row in subway_stations.to_crs(epsg=4326).iterrows():\n",
    "    if row['bike_access']:\n",
    "        Marker([row.geometry.y, row.geometry.x], \n",
    "               icon=folium.Icon(color='green'),\n",
    "               popup=row['STATION']).add_to(map_9)\n",
    "    else:\n",
    "        Marker([row.geometry.y, row.geometry.x], \n",
    "               icon=folium.Icon(color='red'),\n",
    "               popup=row['STATION']).add_to(map_9)\n",
    "\n",
    "# Show the map\n",
    "map_9"
   ]
  },
  {
   "cell_type": "markdown",
   "metadata": {},
   "source": [
    "## Question 8d\n",
    "What percentage of TTC subway stations are within 200 meters of a bike stations? Create a new variable called `bike_access` and assign your answer to it."
   ]
  },
  {
   "cell_type": "code",
   "execution_count": null,
   "metadata": {},
   "outputs": [],
   "source": [
    "# Write your code here.\n",
    "# we know from earlier part that number of rows are 65 so total entries would be 65\n",
    "bike_access = (subway_stations['bike_access'].sum()/65)*100\n",
    "\n",
    "# Print answer\n",
    "print('{} % of subways stations are within 200 meters of a bike station.'.format(bike_access))"
   ]
  },
  {
   "cell_type": "markdown",
   "metadata": {},
   "source": [
    "**Congratulation, you're done Assignment 5. Review your answers and clean up that code before submitting on Quercus. `#cleancode`**"
   ]
  }
 ],
 "metadata": {
  "kernelspec": {
   "display_name": "Python 3",
   "language": "python",
   "name": "python3"
  },
  "language_info": {
   "codemirror_mode": {
    "name": "ipython",
    "version": 3
   },
   "file_extension": ".py",
   "mimetype": "text/x-python",
   "name": "python",
   "nbconvert_exporter": "python",
   "pygments_lexer": "ipython3",
   "version": "3.8.9"
  }
 },
 "nbformat": 4,
 "nbformat_minor": 4
}
